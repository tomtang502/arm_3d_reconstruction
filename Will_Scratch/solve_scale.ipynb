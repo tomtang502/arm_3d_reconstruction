{
 "cells": [
  {
   "cell_type": "code",
   "execution_count": 16,
   "metadata": {},
   "outputs": [],
   "source": [
    "import pickle\n",
    "import numpy as np\n",
    "import plotly.graph_objects as go\n",
    "\n",
    "import yaml\n",
    "from scipy.linalg import expm, inv\n",
    "from numpy import dot, eye\n",
    "import sys\n",
    "import torch\n",
    "import numpy as np"
   ]
  },
  {
   "cell_type": "code",
   "execution_count": 2,
   "metadata": {},
   "outputs": [],
   "source": [
    "eef_poses = [\n",
    "    [3.008, -0.668, 0.549, -0.16574, -0.268, 0.5065], # right back 0\n",
    "    [3.008, -0.5914, 0.633, -0.111, -0.2634, 0.485], # right back 1\n",
    "    [-2.31092, -0.24056, -0.99504, -0.21117, -0.12188, 0.41125], #right back 2\n",
    "    [-2.51890, -0.54126, -0.08807, -0.00074, -0.49342, 0.42817], # right back corner\n",
    "    [-3.008, -0.668, -0.549, -0.16574, 0.268, 0.5065], # left back 0\n",
    "    [-3.008, -0.5914, -0.633, -0.111, 0.2634, 0.485], # left back 1\n",
    "    [-3.008, -0.5914, -0.633, -0.061, 0.2634, 0.485], # left back 1 x + 5cm\n",
    "    [-3.008, -0.5914, -0.633, -0.011, 0.2634, 0.485], # left back 1 x + 10cm\n",
    "    [2.31092, -0.24056, 0.99504, -0.21117, 0.12188, 0.41125], # left back 2\n",
    "    [2.39645, -0.54843, 0.08445, -0.00101, 0.49278, 0.42958], # left back corner\n",
    "]"
   ]
  },
  {
   "cell_type": "code",
   "execution_count": 17,
   "metadata": {},
   "outputs": [],
   "source": [
    "from numpy import dot, eye, zeros, outer\n",
    "from numpy.linalg import inv\n",
    "\n",
    "def log(R):\n",
    "    # Rotation matrix logarithm\n",
    "    theta = np.arccos((R[0,0] + R[1,1] + R[2,2] - 1.0)/2.0)\n",
    "    return np.array([R[2,1] - R[1,2], \n",
    "                     R[0,2] - R[2,0], \n",
    "                     R[1,0] - R[0,1]]) * theta / (2*np.sin(theta))\n",
    "\n",
    "def invsqrt(mat):\n",
    "    u,s,v = np.linalg.svd(mat)\n",
    "    return u.dot(np.diag(1.0/np.sqrt(s))).dot(v)\n",
    "\n",
    "def calibrate(A, B):\n",
    "    #transform pairs A_i, B_i\n",
    "    N = len(A)\n",
    "    M = np.zeros((3,3))\n",
    "    for i in range(N):\n",
    "        Ra, Rb = A[i][0:3, 0:3], B[i][0:3, 0:3]\n",
    "        M += outer(log(Rb), log(Ra))\n",
    "\n",
    "    Rx = dot(invsqrt(dot(M.T, M)), M.T)\n",
    "\n",
    "    C = zeros((3*N, 3))\n",
    "    d = zeros((3*N, 1))\n",
    "    for i in range(N):\n",
    "        Ra,ta = A[i][0:3, 0:3], A[i][0:3, 3]\n",
    "        Rb,tb = B[i][0:3, 0:3], B[i][0:3, 3]\n",
    "        C[3*i:3*i+3, :] = eye(3) - Ra\n",
    "        d[3*i:3*i+3, 0] = ta - dot(Rx, tb)\n",
    "\n",
    "    tx = dot(inv(dot(C.T, C)), dot(C.T, d))\n",
    "    return Rx, tx.flatten()\n",
    "\n",
    "def euler_to_rotation_matrix(roll, pitch, yaw):\n",
    "    \"\"\"\n",
    "    Convert euler angles (roll, pitch, yaw) to a rotation matrix.\n",
    "    \"\"\"\n",
    "    R_x = torch.tensor([[1, 0, 0],\n",
    "                        [0, torch.cos(roll), -torch.sin(roll)],\n",
    "                        [0, torch.sin(roll), torch.cos(roll)]])\n",
    "    \n",
    "    R_y = torch.tensor([[torch.cos(pitch), 0, torch.sin(pitch)],\n",
    "                        [0, 1, 0],\n",
    "                        [-torch.sin(pitch), 0, torch.cos(pitch)]])\n",
    "    \n",
    "    R_z = torch.tensor([[torch.cos(yaw), -torch.sin(yaw), 0],\n",
    "                        [torch.sin(yaw), torch.cos(yaw), 0],\n",
    "                        [0, 0, 1]])\n",
    "    \n",
    "    R = torch.matmul(R_z, torch.matmul(R_y, R_x))\n",
    "    return R\n",
    "    \n",
    "def pose_to_transform(batch):\n",
    "    \"\"\"\n",
    "    Construct a batch of transformation matrices from a batch of roll, pitch, yaw, x, y, z.\n",
    "    The input batch should have the shape (n, 6), where each row is (roll, pitch, yaw, x, y, z).\n",
    "    The output will have the shape (n, 4, 4), representing the transformation matrices.\n",
    "    \"\"\"\n",
    "    n = batch.size(0)\n",
    "    transformation_matrices = torch.zeros((n, 4, 4))\n",
    "    \n",
    "    for i in range(n):\n",
    "        roll, pitch, yaw, x, y, z = batch[i]\n",
    "        rotation_matrix = euler_to_rotation_matrix(roll, pitch, yaw)\n",
    "        transformation_matrix = torch.eye(4)\n",
    "        transformation_matrix[:3, :3] = rotation_matrix\n",
    "        transformation_matrix[:3, 3] = torch.tensor([x, y, z])\n",
    "        transformation_matrices[i] = transformation_matrix\n",
    "    \n",
    "    return transformation_matrices"
   ]
  },
  {
   "cell_type": "code",
   "execution_count": 18,
   "metadata": {},
   "outputs": [],
   "source": [
    "eff_poses_tor_o=pose_to_transform(torch.tensor(eef_poses))\n",
    "im_poses_o=torch.load(\"im_poses_not_inv.tar\").cpu().detach()\n",
    "\n",
    "useful_indices = [0,1,2,3,4,7,8,9]\n",
    "\n",
    "eff_poses_tor=eff_poses_tor_o[useful_indices]\n",
    "im_poses=im_poses_o[useful_indices]"
   ]
  },
  {
   "cell_type": "code",
   "execution_count": 19,
   "metadata": {},
   "outputs": [],
   "source": [
    "def compute_A_B_Rx(eff_poses_tor,im_poses):\n",
    "    A, B = [], []\n",
    "    for i in range(1,len(im_poses)):\n",
    "        p = eff_poses_tor[i-1], im_poses[i-1]\n",
    "        n = eff_poses_tor[i], im_poses[i]\n",
    "        A.append(dot(inv(p[0]), n[0]))\n",
    "        B.append(dot(inv(p[1]), n[1]))\n",
    "\n",
    "    N = len(A)\n",
    "    M = np.zeros((3,3))\n",
    "    for i in range(N):\n",
    "        Ra, Rb = A[i][0:3, 0:3], B[i][0:3, 0:3]\n",
    "        M += outer(log(Rb), log(Ra))\n",
    "\n",
    "    Rx = dot(invsqrt(dot(M.T, M)), M.T)\n",
    "    return(A, B, Rx, N)"
   ]
  },
  {
   "cell_type": "code",
   "execution_count": 9,
   "metadata": {},
   "outputs": [],
   "source": [
    "def compute_cost(scale, A, B, Rx, N):\n",
    "    C = zeros((3*N, 3))\n",
    "    d = zeros((3*N, 1))\n",
    "    for i in range(N):\n",
    "        Ra,ta = A[i][0:3, 0:3], A[i][0:3, 3]\n",
    "        Rb,tb = B[i][0:3, 0:3], B[i][0:3, 3]\n",
    "        C[3*i:3*i+3, :] = eye(3) - Ra\n",
    "        d[3*i:3*i+3, 0] = ta - dot(Rx, scale*tb)\n",
    "\n",
    "    tx = dot(inv(dot(C.T, C)), dot(C.T, d))\n",
    "    J = np.sum(np.linalg.norm(np.dot(C, tx) - d)**2)\n",
    "    return(J, tx)"
   ]
  },
  {
   "cell_type": "code",
   "execution_count": 20,
   "metadata": {},
   "outputs": [],
   "source": [
    "vals_sc=np.linspace(1,4,20000).reshape(-1)\n",
    "A, B, Rx, N=compute_A_B_Rx(eff_poses_tor,im_poses)"
   ]
  },
  {
   "cell_type": "code",
   "execution_count": 21,
   "metadata": {},
   "outputs": [
    {
     "name": "stdout",
     "output_type": "stream",
     "text": [
      "CPU times: user 945 ms, sys: 0 ns, total: 945 ms\n",
      "Wall time: 945 ms\n"
     ]
    }
   ],
   "source": [
    "%%time\n",
    "#we can just brute force\n",
    "costs_list=[]\n",
    "tx_list=[]\n",
    "for i in range(len(vals_sc)):\n",
    "    J_res, tx_res=compute_cost(vals_sc[i],A, B, Rx, N)\n",
    "    costs_list.append(J_res)\n",
    "    tx_list.append(tx_res)\n",
    "costs_tor=torch.tensor(costs_list)"
   ]
  },
  {
   "cell_type": "code",
   "execution_count": 12,
   "metadata": {},
   "outputs": [
    {
     "name": "stdout",
     "output_type": "stream",
     "text": [
      "scale found: 2.841342067103355\n"
     ]
    }
   ],
   "source": [
    "min_inds=torch.argmin(costs_tor)\n",
    "scale=vals_sc[min_inds]\n",
    "print(\"scale found: {}\".format(scale))"
   ]
  },
  {
   "cell_type": "code",
   "execution_count": 22,
   "metadata": {},
   "outputs": [],
   "source": [
    "#load poses again and rescale\n",
    "im_poses_o=torch.load(\"im_poses_not_inv.tar\").cpu().detach()\n",
    "im_poses_o[:,:3,3]=im_poses_o[:,:3,3]*scale\n",
    "im_poses=im_poses_o[useful_indices]\n",
    "A, B, Rx, N=compute_A_B_Rx(eff_poses_tor,im_poses)\n",
    "J,tx=compute_cost(1.,A, B, Rx, N) # the scale factor is just 1 as we have already rescaled"
   ]
  },
  {
   "cell_type": "code",
   "execution_count": 23,
   "metadata": {},
   "outputs": [
    {
     "name": "stderr",
     "output_type": "stream",
     "text": [
      "/tmp/ipykernel_6526/3413290105.py:13: UserWarning:\n",
      "\n",
      "To copy construct from a tensor, it is recommended to use sourceTensor.clone().detach() or sourceTensor.clone().detach().requires_grad_(True), rather than torch.tensor(sourceTensor).\n",
      "\n"
     ]
    }
   ],
   "source": [
    "X = eye(4)\n",
    "X[0:3, 0:3] = Rx\n",
    "X[0:3, -1] = tx.reshape(-1)\n",
    "\n",
    "tmp_list=[]\n",
    "for i in range(len(im_poses)):\n",
    "    rob = eff_poses_tor[i]\n",
    "    obj = im_poses[i]\n",
    "    tmp = dot(rob, dot(X, inv(obj)))\n",
    "    tmp_list.append(tmp)\n",
    "tmp_tor=torch.tensor(tmp_list)\n",
    "world_pose=tmp_tor.mean(dim=0)\n",
    "c_pos=torch.tensor(world_pose).float()@(im_poses_o)\n",
    "c_pos_n=c_pos[:,:3,3]\n",
    "eff_poses_n=eff_poses_tor_o[:,:3,3]"
   ]
  },
  {
   "cell_type": "code",
   "execution_count": 24,
   "metadata": {},
   "outputs": [
    {
     "data": {
      "application/vnd.plotly.v1+json": {
       "config": {
        "plotlyServerURL": "https://plot.ly"
       },
       "data": [
        {
         "marker": {
          "color": "red",
          "size": 5
         },
         "mode": "markers",
         "name": "cams",
         "type": "scatter3d",
         "x": [
          -0.047194194,
          -0.0075721852,
          -0.08992475,
          0.08369382,
          -0.055686038,
          -0.0098324455,
          0.04122388,
          0.09125334,
          -0.06667483,
          0.08604449
         ],
         "y": [
          -0.22192368,
          -0.2175279,
          -0.0974102,
          -0.39724767,
          0.22914612,
          0.21895772,
          0.21369904,
          0.21231505,
          0.078571066,
          0.39973992
         ],
         "z": [
          0.3502263,
          0.33377555,
          0.30629268,
          0.3119106,
          0.38790548,
          0.37164378,
          0.3669886,
          0.36364314,
          0.30543447,
          0.3379838
         ]
        },
        {
         "marker": {
          "color": "blue",
          "size": 5
         },
         "mode": "markers",
         "name": "eef",
         "type": "scatter3d",
         "x": [
          -0.16574,
          -0.111,
          -0.21117,
          -0.00074,
          -0.16574,
          -0.111,
          -0.061,
          -0.011,
          -0.21117,
          -0.00101
         ],
         "y": [
          -0.268,
          -0.2634,
          -0.12188,
          -0.49342,
          0.268,
          0.2634,
          0.2634,
          0.2634,
          0.12188,
          0.49278
         ],
         "z": [
          0.5065,
          0.485,
          0.41125,
          0.42817,
          0.5065,
          0.485,
          0.485,
          0.485,
          0.41125,
          0.42958
         ]
        }
       ],
       "layout": {
        "height": 700,
        "scene": {
         "xaxis": {
          "range": [
           -0.6,
           0.6
          ],
          "title": {
           "text": "X"
          }
         },
         "yaxis": {
          "range": [
           -0.6,
           0.6
          ],
          "title": {
           "text": "Y"
          }
         },
         "zaxis": {
          "range": [
           0,
           1.2
          ],
          "title": {
           "text": "Z"
          }
         }
        },
        "template": {
         "data": {
          "bar": [
           {
            "error_x": {
             "color": "#2a3f5f"
            },
            "error_y": {
             "color": "#2a3f5f"
            },
            "marker": {
             "line": {
              "color": "#E5ECF6",
              "width": 0.5
             },
             "pattern": {
              "fillmode": "overlay",
              "size": 10,
              "solidity": 0.2
             }
            },
            "type": "bar"
           }
          ],
          "barpolar": [
           {
            "marker": {
             "line": {
              "color": "#E5ECF6",
              "width": 0.5
             },
             "pattern": {
              "fillmode": "overlay",
              "size": 10,
              "solidity": 0.2
             }
            },
            "type": "barpolar"
           }
          ],
          "carpet": [
           {
            "aaxis": {
             "endlinecolor": "#2a3f5f",
             "gridcolor": "white",
             "linecolor": "white",
             "minorgridcolor": "white",
             "startlinecolor": "#2a3f5f"
            },
            "baxis": {
             "endlinecolor": "#2a3f5f",
             "gridcolor": "white",
             "linecolor": "white",
             "minorgridcolor": "white",
             "startlinecolor": "#2a3f5f"
            },
            "type": "carpet"
           }
          ],
          "choropleth": [
           {
            "colorbar": {
             "outlinewidth": 0,
             "ticks": ""
            },
            "type": "choropleth"
           }
          ],
          "contour": [
           {
            "colorbar": {
             "outlinewidth": 0,
             "ticks": ""
            },
            "colorscale": [
             [
              0,
              "#0d0887"
             ],
             [
              0.1111111111111111,
              "#46039f"
             ],
             [
              0.2222222222222222,
              "#7201a8"
             ],
             [
              0.3333333333333333,
              "#9c179e"
             ],
             [
              0.4444444444444444,
              "#bd3786"
             ],
             [
              0.5555555555555556,
              "#d8576b"
             ],
             [
              0.6666666666666666,
              "#ed7953"
             ],
             [
              0.7777777777777778,
              "#fb9f3a"
             ],
             [
              0.8888888888888888,
              "#fdca26"
             ],
             [
              1,
              "#f0f921"
             ]
            ],
            "type": "contour"
           }
          ],
          "contourcarpet": [
           {
            "colorbar": {
             "outlinewidth": 0,
             "ticks": ""
            },
            "type": "contourcarpet"
           }
          ],
          "heatmap": [
           {
            "colorbar": {
             "outlinewidth": 0,
             "ticks": ""
            },
            "colorscale": [
             [
              0,
              "#0d0887"
             ],
             [
              0.1111111111111111,
              "#46039f"
             ],
             [
              0.2222222222222222,
              "#7201a8"
             ],
             [
              0.3333333333333333,
              "#9c179e"
             ],
             [
              0.4444444444444444,
              "#bd3786"
             ],
             [
              0.5555555555555556,
              "#d8576b"
             ],
             [
              0.6666666666666666,
              "#ed7953"
             ],
             [
              0.7777777777777778,
              "#fb9f3a"
             ],
             [
              0.8888888888888888,
              "#fdca26"
             ],
             [
              1,
              "#f0f921"
             ]
            ],
            "type": "heatmap"
           }
          ],
          "heatmapgl": [
           {
            "colorbar": {
             "outlinewidth": 0,
             "ticks": ""
            },
            "colorscale": [
             [
              0,
              "#0d0887"
             ],
             [
              0.1111111111111111,
              "#46039f"
             ],
             [
              0.2222222222222222,
              "#7201a8"
             ],
             [
              0.3333333333333333,
              "#9c179e"
             ],
             [
              0.4444444444444444,
              "#bd3786"
             ],
             [
              0.5555555555555556,
              "#d8576b"
             ],
             [
              0.6666666666666666,
              "#ed7953"
             ],
             [
              0.7777777777777778,
              "#fb9f3a"
             ],
             [
              0.8888888888888888,
              "#fdca26"
             ],
             [
              1,
              "#f0f921"
             ]
            ],
            "type": "heatmapgl"
           }
          ],
          "histogram": [
           {
            "marker": {
             "pattern": {
              "fillmode": "overlay",
              "size": 10,
              "solidity": 0.2
             }
            },
            "type": "histogram"
           }
          ],
          "histogram2d": [
           {
            "colorbar": {
             "outlinewidth": 0,
             "ticks": ""
            },
            "colorscale": [
             [
              0,
              "#0d0887"
             ],
             [
              0.1111111111111111,
              "#46039f"
             ],
             [
              0.2222222222222222,
              "#7201a8"
             ],
             [
              0.3333333333333333,
              "#9c179e"
             ],
             [
              0.4444444444444444,
              "#bd3786"
             ],
             [
              0.5555555555555556,
              "#d8576b"
             ],
             [
              0.6666666666666666,
              "#ed7953"
             ],
             [
              0.7777777777777778,
              "#fb9f3a"
             ],
             [
              0.8888888888888888,
              "#fdca26"
             ],
             [
              1,
              "#f0f921"
             ]
            ],
            "type": "histogram2d"
           }
          ],
          "histogram2dcontour": [
           {
            "colorbar": {
             "outlinewidth": 0,
             "ticks": ""
            },
            "colorscale": [
             [
              0,
              "#0d0887"
             ],
             [
              0.1111111111111111,
              "#46039f"
             ],
             [
              0.2222222222222222,
              "#7201a8"
             ],
             [
              0.3333333333333333,
              "#9c179e"
             ],
             [
              0.4444444444444444,
              "#bd3786"
             ],
             [
              0.5555555555555556,
              "#d8576b"
             ],
             [
              0.6666666666666666,
              "#ed7953"
             ],
             [
              0.7777777777777778,
              "#fb9f3a"
             ],
             [
              0.8888888888888888,
              "#fdca26"
             ],
             [
              1,
              "#f0f921"
             ]
            ],
            "type": "histogram2dcontour"
           }
          ],
          "mesh3d": [
           {
            "colorbar": {
             "outlinewidth": 0,
             "ticks": ""
            },
            "type": "mesh3d"
           }
          ],
          "parcoords": [
           {
            "line": {
             "colorbar": {
              "outlinewidth": 0,
              "ticks": ""
             }
            },
            "type": "parcoords"
           }
          ],
          "pie": [
           {
            "automargin": true,
            "type": "pie"
           }
          ],
          "scatter": [
           {
            "fillpattern": {
             "fillmode": "overlay",
             "size": 10,
             "solidity": 0.2
            },
            "type": "scatter"
           }
          ],
          "scatter3d": [
           {
            "line": {
             "colorbar": {
              "outlinewidth": 0,
              "ticks": ""
             }
            },
            "marker": {
             "colorbar": {
              "outlinewidth": 0,
              "ticks": ""
             }
            },
            "type": "scatter3d"
           }
          ],
          "scattercarpet": [
           {
            "marker": {
             "colorbar": {
              "outlinewidth": 0,
              "ticks": ""
             }
            },
            "type": "scattercarpet"
           }
          ],
          "scattergeo": [
           {
            "marker": {
             "colorbar": {
              "outlinewidth": 0,
              "ticks": ""
             }
            },
            "type": "scattergeo"
           }
          ],
          "scattergl": [
           {
            "marker": {
             "colorbar": {
              "outlinewidth": 0,
              "ticks": ""
             }
            },
            "type": "scattergl"
           }
          ],
          "scattermapbox": [
           {
            "marker": {
             "colorbar": {
              "outlinewidth": 0,
              "ticks": ""
             }
            },
            "type": "scattermapbox"
           }
          ],
          "scatterpolar": [
           {
            "marker": {
             "colorbar": {
              "outlinewidth": 0,
              "ticks": ""
             }
            },
            "type": "scatterpolar"
           }
          ],
          "scatterpolargl": [
           {
            "marker": {
             "colorbar": {
              "outlinewidth": 0,
              "ticks": ""
             }
            },
            "type": "scatterpolargl"
           }
          ],
          "scatterternary": [
           {
            "marker": {
             "colorbar": {
              "outlinewidth": 0,
              "ticks": ""
             }
            },
            "type": "scatterternary"
           }
          ],
          "surface": [
           {
            "colorbar": {
             "outlinewidth": 0,
             "ticks": ""
            },
            "colorscale": [
             [
              0,
              "#0d0887"
             ],
             [
              0.1111111111111111,
              "#46039f"
             ],
             [
              0.2222222222222222,
              "#7201a8"
             ],
             [
              0.3333333333333333,
              "#9c179e"
             ],
             [
              0.4444444444444444,
              "#bd3786"
             ],
             [
              0.5555555555555556,
              "#d8576b"
             ],
             [
              0.6666666666666666,
              "#ed7953"
             ],
             [
              0.7777777777777778,
              "#fb9f3a"
             ],
             [
              0.8888888888888888,
              "#fdca26"
             ],
             [
              1,
              "#f0f921"
             ]
            ],
            "type": "surface"
           }
          ],
          "table": [
           {
            "cells": {
             "fill": {
              "color": "#EBF0F8"
             },
             "line": {
              "color": "white"
             }
            },
            "header": {
             "fill": {
              "color": "#C8D4E3"
             },
             "line": {
              "color": "white"
             }
            },
            "type": "table"
           }
          ]
         },
         "layout": {
          "annotationdefaults": {
           "arrowcolor": "#2a3f5f",
           "arrowhead": 0,
           "arrowwidth": 1
          },
          "autotypenumbers": "strict",
          "coloraxis": {
           "colorbar": {
            "outlinewidth": 0,
            "ticks": ""
           }
          },
          "colorscale": {
           "diverging": [
            [
             0,
             "#8e0152"
            ],
            [
             0.1,
             "#c51b7d"
            ],
            [
             0.2,
             "#de77ae"
            ],
            [
             0.3,
             "#f1b6da"
            ],
            [
             0.4,
             "#fde0ef"
            ],
            [
             0.5,
             "#f7f7f7"
            ],
            [
             0.6,
             "#e6f5d0"
            ],
            [
             0.7,
             "#b8e186"
            ],
            [
             0.8,
             "#7fbc41"
            ],
            [
             0.9,
             "#4d9221"
            ],
            [
             1,
             "#276419"
            ]
           ],
           "sequential": [
            [
             0,
             "#0d0887"
            ],
            [
             0.1111111111111111,
             "#46039f"
            ],
            [
             0.2222222222222222,
             "#7201a8"
            ],
            [
             0.3333333333333333,
             "#9c179e"
            ],
            [
             0.4444444444444444,
             "#bd3786"
            ],
            [
             0.5555555555555556,
             "#d8576b"
            ],
            [
             0.6666666666666666,
             "#ed7953"
            ],
            [
             0.7777777777777778,
             "#fb9f3a"
            ],
            [
             0.8888888888888888,
             "#fdca26"
            ],
            [
             1,
             "#f0f921"
            ]
           ],
           "sequentialminus": [
            [
             0,
             "#0d0887"
            ],
            [
             0.1111111111111111,
             "#46039f"
            ],
            [
             0.2222222222222222,
             "#7201a8"
            ],
            [
             0.3333333333333333,
             "#9c179e"
            ],
            [
             0.4444444444444444,
             "#bd3786"
            ],
            [
             0.5555555555555556,
             "#d8576b"
            ],
            [
             0.6666666666666666,
             "#ed7953"
            ],
            [
             0.7777777777777778,
             "#fb9f3a"
            ],
            [
             0.8888888888888888,
             "#fdca26"
            ],
            [
             1,
             "#f0f921"
            ]
           ]
          },
          "colorway": [
           "#636efa",
           "#EF553B",
           "#00cc96",
           "#ab63fa",
           "#FFA15A",
           "#19d3f3",
           "#FF6692",
           "#B6E880",
           "#FF97FF",
           "#FECB52"
          ],
          "font": {
           "color": "#2a3f5f"
          },
          "geo": {
           "bgcolor": "white",
           "lakecolor": "white",
           "landcolor": "#E5ECF6",
           "showlakes": true,
           "showland": true,
           "subunitcolor": "white"
          },
          "hoverlabel": {
           "align": "left"
          },
          "hovermode": "closest",
          "mapbox": {
           "style": "light"
          },
          "paper_bgcolor": "white",
          "plot_bgcolor": "#E5ECF6",
          "polar": {
           "angularaxis": {
            "gridcolor": "white",
            "linecolor": "white",
            "ticks": ""
           },
           "bgcolor": "#E5ECF6",
           "radialaxis": {
            "gridcolor": "white",
            "linecolor": "white",
            "ticks": ""
           }
          },
          "scene": {
           "xaxis": {
            "backgroundcolor": "#E5ECF6",
            "gridcolor": "white",
            "gridwidth": 2,
            "linecolor": "white",
            "showbackground": true,
            "ticks": "",
            "zerolinecolor": "white"
           },
           "yaxis": {
            "backgroundcolor": "#E5ECF6",
            "gridcolor": "white",
            "gridwidth": 2,
            "linecolor": "white",
            "showbackground": true,
            "ticks": "",
            "zerolinecolor": "white"
           },
           "zaxis": {
            "backgroundcolor": "#E5ECF6",
            "gridcolor": "white",
            "gridwidth": 2,
            "linecolor": "white",
            "showbackground": true,
            "ticks": "",
            "zerolinecolor": "white"
           }
          },
          "shapedefaults": {
           "line": {
            "color": "#2a3f5f"
           }
          },
          "ternary": {
           "aaxis": {
            "gridcolor": "white",
            "linecolor": "white",
            "ticks": ""
           },
           "baxis": {
            "gridcolor": "white",
            "linecolor": "white",
            "ticks": ""
           },
           "bgcolor": "#E5ECF6",
           "caxis": {
            "gridcolor": "white",
            "linecolor": "white",
            "ticks": ""
           }
          },
          "title": {
           "x": 0.05
          },
          "xaxis": {
           "automargin": true,
           "gridcolor": "white",
           "linecolor": "white",
           "ticks": "",
           "title": {
            "standoff": 15
           },
           "zerolinecolor": "white",
           "zerolinewidth": 2
          },
          "yaxis": {
           "automargin": true,
           "gridcolor": "white",
           "linecolor": "white",
           "ticks": "",
           "title": {
            "standoff": 15
           },
           "zerolinecolor": "white",
           "zerolinewidth": 2
          }
         }
        },
        "title": {
         "text": "Camera Positions and Orientations"
        },
        "width": 1000
       }
      }
     },
     "metadata": {},
     "output_type": "display_data"
    }
   ],
   "source": [
    "fig = go.Figure()\n",
    "\n",
    "fig.add_trace(go.Scatter3d(x=c_pos_n[:, 0].detach().cpu(),  # X coordinates\n",
    "    y=c_pos_n[:, 1].detach().cpu(),  # Y coordinates\n",
    "    z=c_pos_n[:, 2].detach().cpu(),  # Z coordinates\n",
    "                           mode='markers', marker=dict(size=5, color='red'),name=\"cams\"))\n",
    "fig.add_trace(go.Scatter3d(x=eff_poses_n[:, 0].detach().cpu(),  # X coordinates\n",
    "    y=eff_poses_n[:, 1].detach().cpu(),  # Y coordinates\n",
    "    z=eff_poses_n[:, 2].detach().cpu(),  # Z coordinates\n",
    "                           mode='markers', marker=dict(size=5, color='blue'),name=\"eef\"))\n",
    "\n",
    "fig.update_layout(scene=dict(\n",
    "                    xaxis=dict(range=[-0.6, 0.6]),\n",
    "                    yaxis=dict(range=[-0.6, 0.6]),\n",
    "                    zaxis=dict(range=[0, 1.2])\n",
    "))\n",
    "\n",
    "fig.update_layout(scene=dict(xaxis_title='X', yaxis_title='Y', zaxis_title='Z'),\n",
    "                  title=\"Camera Positions and Orientations\")\n",
    "\n",
    "fig.update_layout(width=1000, height=700)\n",
    "fig.show()"
   ]
  },
  {
   "cell_type": "code",
   "execution_count": null,
   "metadata": {},
   "outputs": [],
   "source": []
  }
 ],
 "metadata": {
  "kernelspec": {
   "display_name": "Python 3",
   "language": "python",
   "name": "python3"
  },
  "language_info": {
   "codemirror_mode": {
    "name": "ipython",
    "version": 3
   },
   "file_extension": ".py",
   "mimetype": "text/x-python",
   "name": "python",
   "nbconvert_exporter": "python",
   "pygments_lexer": "ipython3",
   "version": "3.11.8"
  }
 },
 "nbformat": 4,
 "nbformat_minor": 4
}
