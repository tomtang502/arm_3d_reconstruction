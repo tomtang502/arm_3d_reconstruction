{
 "cells": [
  {
   "cell_type": "code",
   "execution_count": 5,
   "id": "ee6adfed",
   "metadata": {},
   "outputs": [],
   "source": [
    "import sys\n",
    "import time\n",
    "import math\n",
    "import numpy as np\n",
    "import torch\n",
    "sys.path.append(\"/home/wzhi/Downloads/z1_sdk-master/lib\")\n",
    "import unitree_arm_interface"
   ]
  },
  {
   "cell_type": "code",
   "execution_count": 2,
   "id": "03f33217",
   "metadata": {},
   "outputs": [],
   "source": [
    "# high cmd\n",
    "TARGET_PORT = 8082\n",
    "LOCAL_PORT = 8081\n",
    "TARGET_IP = \"192.168.123.220\"   # target IP address\n",
    "\n",
    "HIGH_CMD_LENGTH = 113\n",
    "HIGH_STATE_LENGTH = 244\n",
    "\n",
    "HIGHLEVEL = 0x00\n",
    "LOWLEVEL  = 0xff"
   ]
  },
  {
   "cell_type": "code",
   "execution_count": 4,
   "id": "dcb35ede",
   "metadata": {},
   "outputs": [],
   "source": [
    "np.set_printoptions(precision=3, suppress=True)\n",
    "arm = unitree_arm_interface.ArmInterface(hasGripper=True)\n",
    "armModel = arm._ctrlComp.armModel\n",
    "arm.loopOn()\n",
    "arm.labelRun(\"forward\")\n",
    "gripper_pos = 0.0\n",
    "jnt_speed = 2.0\n",
    "armState = unitree_arm_interface.ArmFSMState\n",
    "arm.startTrack(armState.CARTESIAN)\n",
    "arm.backToStart()"
   ]
  },
  {
   "cell_type": "code",
   "execution_count": 268,
   "id": "e2753503",
   "metadata": {},
   "outputs": [],
   "source": [
    "gripper_pos = 0.0\n",
    "jnt_speed = 1.0\n",
    "home_vec = torch.Tensor([0.,0.35,-0.35,0.1,0.1,0.4])"
   ]
  },
  {
   "cell_type": "code",
   "execution_count": 269,
   "id": "8de56336",
   "metadata": {},
   "outputs": [
    {
     "data": {
      "text/plain": [
       "True"
      ]
     },
     "execution_count": 269,
     "metadata": {},
     "output_type": "execute_result"
    }
   ],
   "source": [
    "arm.MoveJ(np.array(home_vec), gripper_pos, jnt_speed)"
   ]
  },
  {
   "cell_type": "code",
   "execution_count": null,
   "id": "76811271",
   "metadata": {},
   "outputs": [],
   "source": []
  }
 ],
 "metadata": {
  "kernelspec": {
   "display_name": "Python 3 (ipykernel)",
   "language": "python",
   "name": "python3"
  },
  "language_info": {
   "codemirror_mode": {
    "name": "ipython",
    "version": 3
   },
   "file_extension": ".py",
   "mimetype": "text/x-python",
   "name": "python",
   "nbconvert_exporter": "python",
   "pygments_lexer": "ipython3",
   "version": "3.8.10"
  }
 },
 "nbformat": 4,
 "nbformat_minor": 5
}
