{
 "cells": [
  {
   "cell_type": "code",
   "execution_count": 2,
   "id": "8a6d1cca",
   "metadata": {},
   "outputs": [],
   "source": [
    "import sys\n",
    "import time\n",
    "import math\n",
    "import numpy as np\n",
    "sys.path.append('/home/wzhi/Downloads/aliengo/unitree_legged_sdk-Aliengo/lib/python/amd64')\n",
    "sys.path.append(\"/home/wzhi/Downloads/z1_sdk-master/lib\")\n",
    "import robot_interface as sdk\n",
    "import unitree_arm_interface\n",
    "# high cmd\n",
    "TARGET_PORT = 8082\n",
    "LOCAL_PORT = 8081\n",
    "TARGET_IP = \"192.168.123.220\"   # target IP address\n",
    "\n",
    "HIGH_CMD_LENGTH = 113\n",
    "HIGH_STATE_LENGTH = 244\n",
    "\n",
    "HIGHLEVEL = 0x00\n",
    "LOWLEVEL  = 0xff"
   ]
  },
  {
   "cell_type": "code",
   "execution_count": null,
   "id": "3d1ade0f",
   "metadata": {},
   "outputs": [],
   "source": [
    "cmd = sdk.HighCmd()\n",
    "state = sdk.HighState()\n",
    "\n",
    "\n",
    "\n",
    "\n",
    "udp = sdk.UDP(LOCAL_PORT, TARGET_IP, TARGET_PORT, HIGH_CMD_LENGTH, HIGH_STATE_LENGTH, -1)\n",
    "\n",
    "udp.InitCmdData(cmd)\n",
    "udp.Recv()\n",
    "udp.GetRecv(state)"
   ]
  },
  {
   "cell_type": "code",
   "execution_count": 2,
   "id": "f0a2250a",
   "metadata": {},
   "outputs": [],
   "source": [
    "np.set_printoptions(precision=3, suppress=True)\n",
    "arm = unitree_arm_interface.ArmInterface(hasGripper=True)\n",
    "armModel = arm._ctrlComp.armModel\n",
    "arm.loopOn()\n",
    "arm.labelRun(\"forward\")\n",
    "gripper_pos = 0.0\n",
    "jnt_speed = 2.0\n",
    "armState = unitree_arm_interface.ArmFSMState\n",
    "arm.startTrack(armState.CARTESIAN)\n",
    "#arm.backToStart()"
   ]
  },
  {
   "cell_type": "code",
   "execution_count": 3,
   "id": "cfcc6f16",
   "metadata": {},
   "outputs": [],
   "source": [
    "arm.backToStart()\n"
   ]
  },
  {
   "cell_type": "code",
   "execution_count": 4,
   "id": "6edc2aca",
   "metadata": {},
   "outputs": [],
   "source": [
    "import torch"
   ]
  },
  {
   "cell_type": "code",
   "execution_count": 5,
   "id": "67425cf8",
   "metadata": {},
   "outputs": [],
   "source": [
    "home_vec = torch.Tensor([0.,0.8,0.,0.0,0.0,0.25])"
   ]
  },
  {
   "cell_type": "code",
   "execution_count": 6,
   "id": "0151ea28",
   "metadata": {},
   "outputs": [],
   "source": [
    "gripper_pos = -0.75\n",
    "jnt_speed = 1.0"
   ]
  },
  {
   "cell_type": "code",
   "execution_count": 7,
   "id": "880fa48b",
   "metadata": {},
   "outputs": [
    {
     "data": {
      "text/plain": [
       "True"
      ]
     },
     "execution_count": 7,
     "metadata": {},
     "output_type": "execute_result"
    }
   ],
   "source": [
    "arm.MoveJ(np.array(home_vec), gripper_pos, jnt_speed)"
   ]
  },
  {
   "cell_type": "code",
   "execution_count": null,
   "id": "e435e50f",
   "metadata": {},
   "outputs": [],
   "source": []
  },
  {
   "cell_type": "code",
   "execution_count": null,
   "id": "b4f3cfb2",
   "metadata": {},
   "outputs": [],
   "source": []
  },
  {
   "cell_type": "code",
   "execution_count": 3,
   "id": "7f302352",
   "metadata": {},
   "outputs": [],
   "source": [
    "cmd.mode = 0      # 0:idle, default stand      1:forced stand     2:walk continuously\n",
    "cmd.gaitType = 0\n",
    "cmd.speedLevel = 0\n",
    "cmd.dFootRaiseHeight = 0\n",
    "cmd.dBodyHeight = 0\n",
    "cmd.rpy = [0, 0, 0]\n",
    "cmd.velocity = [0, 0]\n",
    "cmd.yawSpeed = 0.0\n",
    "cmd.reserve = 0\n",
    "\n",
    "# cmd.mode = 0\n",
    "# cmd.gaitType = 0\n",
    "# cmd.velocity = [-0.1, 0] # -1  ~ +1\n",
    "# cmd.yawSpeed = 0#-0.2\n",
    "# cmd.dFootRaiseHeight = 0.1\n",
    "\n",
    "# cmd.mode = 1\n",
    "# cmd.dBodyHeight = -0.2\n",
    "\n",
    "#cmd.mode = 1\n",
    "#cmd.dBodyHeight = -0.1\n",
    "cmd.mode = 2\n",
    "cmd.gaitType = 1\n",
    "cmd.velocity = [-0.3, 0] # -1  ~ +1\n",
    "cmd.yawSpeed = -.2\n",
    "cmd.dFootRaiseHeight = 0.05"
   ]
  },
  {
   "cell_type": "code",
   "execution_count": 4,
   "id": "dea0de42",
   "metadata": {},
   "outputs": [],
   "source": [
    "for i in range(100):\n",
    "    udp.SetSend(cmd)\n",
    "    udp.Send()\n",
    "    time.sleep(0.01)"
   ]
  },
  {
   "cell_type": "code",
   "execution_count": 5,
   "id": "d6b4887d",
   "metadata": {},
   "outputs": [
    {
     "data": {
      "text/plain": [
       "-0.12625040885976824"
      ]
     },
     "execution_count": 5,
     "metadata": {},
     "output_type": "execute_result"
    }
   ],
   "source": [
    "np.random.rand()*(-0.2)-0.05"
   ]
  },
  {
   "cell_type": "code",
   "execution_count": 6,
   "id": "46029606",
   "metadata": {},
   "outputs": [
    {
     "ename": "NameError",
     "evalue": "name 'arm' is not defined",
     "output_type": "error",
     "traceback": [
      "\u001b[0;31m---------------------------------------------------------------------------\u001b[0m",
      "\u001b[0;31mNameError\u001b[0m                                 Traceback (most recent call last)",
      "\u001b[0;32m<ipython-input-6-fa04128074c9>\u001b[0m in \u001b[0;36m<module>\u001b[0;34m\u001b[0m\n\u001b[1;32m      6\u001b[0m         \u001b[0mudp\u001b[0m\u001b[0;34m.\u001b[0m\u001b[0mSend\u001b[0m\u001b[0;34m(\u001b[0m\u001b[0;34m)\u001b[0m\u001b[0;34m\u001b[0m\u001b[0;34m\u001b[0m\u001b[0m\n\u001b[1;32m      7\u001b[0m         \u001b[0mtime\u001b[0m\u001b[0;34m.\u001b[0m\u001b[0msleep\u001b[0m\u001b[0;34m(\u001b[0m\u001b[0;36m0.02\u001b[0m\u001b[0;34m)\u001b[0m\u001b[0;34m\u001b[0m\u001b[0;34m\u001b[0m\u001b[0m\n\u001b[0;32m----> 8\u001b[0;31m     \u001b[0marm\u001b[0m\u001b[0;34m.\u001b[0m\u001b[0mloopOn\u001b[0m\u001b[0;34m(\u001b[0m\u001b[0;34m)\u001b[0m\u001b[0;34m\u001b[0m\u001b[0;34m\u001b[0m\u001b[0m\n\u001b[0m\u001b[1;32m      9\u001b[0m     \u001b[0marm\u001b[0m\u001b[0;34m.\u001b[0m\u001b[0mlabelRun\u001b[0m\u001b[0;34m(\u001b[0m\u001b[0;34m\"forward\"\u001b[0m\u001b[0;34m)\u001b[0m\u001b[0;34m\u001b[0m\u001b[0;34m\u001b[0m\u001b[0m\n\u001b[1;32m     10\u001b[0m     \u001b[0mgripper_pos\u001b[0m \u001b[0;34m=\u001b[0m \u001b[0;36m0.0\u001b[0m\u001b[0;34m\u001b[0m\u001b[0;34m\u001b[0m\u001b[0m\n",
      "\u001b[0;31mNameError\u001b[0m: name 'arm' is not defined"
     ]
    }
   ],
   "source": [
    "for jj in range(3):\n",
    "    cmd.mode = 1\n",
    "    cmd.dBodyHeight = np.random.rand()*(-0.15)-0.15\n",
    "    for i in range(100):\n",
    "        udp.SetSend(cmd)\n",
    "        udp.Send()\n",
    "        time.sleep(0.02)\n",
    "    arm.loopOn()\n",
    "    arm.labelRun(\"forward\")\n",
    "    gripper_pos = 0.0\n",
    "    jnt_speed = 2.0\n",
    "    armState = unitree_arm_interface.ArmFSMState\n",
    "    arm.startTrack(armState.CARTESIAN)\n",
    "    arm.backToStart()\n",
    "    time.sleep(1)"
   ]
  },
  {
   "cell_type": "code",
   "execution_count": 54,
   "id": "a7a0b79c",
   "metadata": {},
   "outputs": [],
   "source": []
  },
  {
   "cell_type": "code",
   "execution_count": null,
   "id": "d9a90382",
   "metadata": {},
   "outputs": [],
   "source": [
    "np.set_printoptions(precision=3, suppress=True)\n",
    "arm = unitree_arm_interface.ArmInterface(hasGripper=True)\n",
    "armModel = arm._ctrlComp.armModel\n",
    "arm.loopOn()\n",
    "arm.labelRun(\"forward\")\n",
    "gripper_pos = 0.0\n",
    "jnt_speed = 2.0\n",
    "armState = unitree_arm_interface.ArmFSMState\n",
    "arm.startTrack(armState.CARTESIAN)\n",
    "arm.backToStart()"
   ]
  },
  {
   "cell_type": "code",
   "execution_count": null,
   "id": "2a2d8744",
   "metadata": {},
   "outputs": [],
   "source": []
  }
 ],
 "metadata": {
  "kernelspec": {
   "display_name": "Python 3 (ipykernel)",
   "language": "python",
   "name": "python3"
  },
  "language_info": {
   "codemirror_mode": {
    "name": "ipython",
    "version": 3
   },
   "file_extension": ".py",
   "mimetype": "text/x-python",
   "name": "python",
   "nbconvert_exporter": "python",
   "pygments_lexer": "ipython3",
   "version": "3.8.10"
  }
 },
 "nbformat": 4,
 "nbformat_minor": 5
}
